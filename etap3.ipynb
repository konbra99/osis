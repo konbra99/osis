{
  "nbformat": 4,
  "nbformat_minor": 0,
  "metadata": {
    "colab": {
      "name": "kod.ipynb",
      "provenance": [],
      "collapsed_sections": []
    },
    "kernelspec": {
      "name": "python3",
      "display_name": "Python 3"
    },
    "language_info": {
      "name": "python"
    }
  },
  "cells": [
    {
      "cell_type": "code",
      "source": [
        "import numpy as np\n",
        "from copy import copy\n",
        "import sys"
      ],
      "metadata": {
        "id": "qzDGH9ATKdy1"
      },
      "execution_count": 1,
      "outputs": []
    },
    {
      "cell_type": "markdown",
      "source": [
        "# Wczytywanie danych z pliku"
      ],
      "metadata": {
        "id": "lxSATWnXHsEQ"
      }
    },
    {
      "cell_type": "code",
      "source": [
        "class Parameters:\n",
        "    def __init__(self):\n",
        "        self.n = 0\n",
        "        self.m = 0\n",
        "        self.p = []\n",
        "    \n",
        "    def __str__(self):\n",
        "        return str(self.p)"
      ],
      "metadata": {
        "id": "d941VZKAH-Q8"
      },
      "execution_count": 2,
      "outputs": []
    },
    {
      "cell_type": "code",
      "source": [
        "def buildParametersFromFile(filename):\n",
        "    fileIterator = getFileIterator(filename)\n",
        "    \n",
        "    parameters = Parameters()\n",
        "    parameters.n = next(fileIterator)\n",
        "    parameters.m = next(fileIterator)\n",
        "    processTimes = []\n",
        "    for _ in range(parameters.m):\n",
        "        machineTimes = [next(fileIterator) for _ in range(parameters.n)]\n",
        "        processTimes.append(machineTimes)\n",
        "    parameters.p = np.array(processTimes)\n",
        "    \n",
        "    return parameters"
      ],
      "metadata": {
        "id": "fcG8D2KIHzfW"
      },
      "execution_count": 3,
      "outputs": []
    },
    {
      "cell_type": "code",
      "execution_count": 4,
      "metadata": {
        "id": "DGVjTEQV9kAY"
      },
      "outputs": [],
      "source": [
        "def getFileIterator(filename):\n",
        "    with open(filename) as f:\n",
        "        return iter([int(elem) for elem in f.read().split()])"
      ]
    },
    {
      "cell_type": "markdown",
      "source": [
        "# Obliczanie czasu ukończenia"
      ],
      "metadata": {
        "id": "C_E_98meL9PP"
      }
    },
    {
      "cell_type": "code",
      "source": [
        "def calculateMakespan(parameters, permutation, n=-1):\n",
        "    times = []\n",
        "    time = 0\n",
        "    \n",
        "    if n == -1:\n",
        "        n = parameters.n\n",
        "\n",
        "    for j in range(0, n):\n",
        "        time += parameters.p[0][permutation[j]]\n",
        "        times.append(time)\n",
        "    \n",
        "    for i in range(1, parameters.m):\n",
        "        oldTimes = copy(times)\n",
        "        time = oldTimes[0] + parameters.p[i][permutation[0]]\n",
        "        times = [time]\n",
        "        for j in range(1, n):\n",
        "            time = max(time, oldTimes[j]) + parameters.p[i][permutation[j]]\n",
        "            times.append(time)\n",
        "    \n",
        "    return times[-1]"
      ],
      "metadata": {
        "id": "qCkYhKxIL8LY"
      },
      "execution_count": 5,
      "outputs": []
    },
    {
      "cell_type": "markdown",
      "source": [
        "# Implementacja algorytmu"
      ],
      "metadata": {
        "id": "zFt1XiI1GPFb"
      }
    },
    {
      "cell_type": "markdown",
      "source": [
        "Obliczamy sumy czasów przetwarzania."
      ],
      "metadata": {
        "id": "50UncAboGaou"
      }
    },
    {
      "cell_type": "code",
      "source": [
        "def summedJobTimes(parameters):\n",
        "    sums = []\n",
        "    for j in range(parameters.n):\n",
        "        sum = 0\n",
        "        for i in range(parameters.m):\n",
        "            sum += parameters.p[i][j]\n",
        "        \n",
        "        sums.append(sum)\n",
        "    \n",
        "    return np.array(sums)"
      ],
      "metadata": {
        "id": "4mid8TecGOXt"
      },
      "execution_count": 6,
      "outputs": []
    },
    {
      "cell_type": "markdown",
      "source": [
        "Sortujemy malejąco otrzymane sumy."
      ],
      "metadata": {
        "id": "J97r5OSOLzhN"
      }
    },
    {
      "cell_type": "code",
      "source": [
        "def sortTimes(sums):\n",
        "    return np.argsort(sums)[::-1][:len(sums)]"
      ],
      "metadata": {
        "id": "Dm5Jh7aHJ4UB"
      },
      "execution_count": 7,
      "outputs": []
    },
    {
      "cell_type": "code",
      "source": [
        "def insertionSort(parameters, sorted):\n",
        "    sequence = [sorted[0]]\n",
        "\n",
        "    for j in range(1, parameters.n):\n",
        "        job = sorted[j]\n",
        "        minSpan = sys.maxsize\n",
        "        for place in range(0, j + 1):\n",
        "            temporary = copy(sequence)\n",
        "            temporary.insert(place, job)\n",
        "            span = calculateMakespan(parameters, temporary, n=j+1)\n",
        "            if span < minSpan:\n",
        "                minSpan = span\n",
        "                nextSequence = temporary\n",
        "        sequence = nextSequence\n",
        "    \n",
        "    return sequence, minSpan"
      ],
      "metadata": {
        "id": "9aTh913JRbQ5"
      },
      "execution_count": 8,
      "outputs": []
    },
    {
      "cell_type": "code",
      "source": [
        "def algorithm(parameters):\n",
        "    sums = summedJobTimes(parameters)\n",
        "    sortedTimes = sortTimes(sums)\n",
        "    return insertionSort(parameters, sortedTimes)"
      ],
      "metadata": {
        "id": "OnwyupE2Q4gi"
      },
      "execution_count": 9,
      "outputs": []
    },
    {
      "cell_type": "code",
      "source": [
        "parameters = buildParametersFromFile('example.txt')\n",
        "print(parameters)"
      ],
      "metadata": {
        "colab": {
          "base_uri": "https://localhost:8080/",
          "height": 293
        },
        "id": "MpGy0fyCVJOF",
        "outputId": "d92391e6-ce02-4eeb-cb4b-40c2ff9f4f32"
      },
      "execution_count": 10,
      "outputs": [
        {
          "output_type": "error",
          "ename": "FileNotFoundError",
          "evalue": "ignored",
          "traceback": [
            "\u001b[0;31m---------------------------------------------------------------------------\u001b[0m",
            "\u001b[0;31mFileNotFoundError\u001b[0m                         Traceback (most recent call last)",
            "\u001b[0;32m<ipython-input-10-7c1768086c8f>\u001b[0m in \u001b[0;36m<module>\u001b[0;34m()\u001b[0m\n\u001b[0;32m----> 1\u001b[0;31m \u001b[0mparameters\u001b[0m \u001b[0;34m=\u001b[0m \u001b[0mbuildParametersFromFile\u001b[0m\u001b[0;34m(\u001b[0m\u001b[0;34m'example.txt'\u001b[0m\u001b[0;34m)\u001b[0m\u001b[0;34m\u001b[0m\u001b[0;34m\u001b[0m\u001b[0m\n\u001b[0m\u001b[1;32m      2\u001b[0m \u001b[0mprint\u001b[0m\u001b[0;34m(\u001b[0m\u001b[0mparameters\u001b[0m\u001b[0;34m)\u001b[0m\u001b[0;34m\u001b[0m\u001b[0;34m\u001b[0m\u001b[0m\n",
            "\u001b[0;32m<ipython-input-3-85089a5c9f40>\u001b[0m in \u001b[0;36mbuildParametersFromFile\u001b[0;34m(filename)\u001b[0m\n\u001b[1;32m      1\u001b[0m \u001b[0;32mdef\u001b[0m \u001b[0mbuildParametersFromFile\u001b[0m\u001b[0;34m(\u001b[0m\u001b[0mfilename\u001b[0m\u001b[0;34m)\u001b[0m\u001b[0;34m:\u001b[0m\u001b[0;34m\u001b[0m\u001b[0;34m\u001b[0m\u001b[0m\n\u001b[0;32m----> 2\u001b[0;31m     \u001b[0mfileIterator\u001b[0m \u001b[0;34m=\u001b[0m \u001b[0mgetFileIterator\u001b[0m\u001b[0;34m(\u001b[0m\u001b[0mfilename\u001b[0m\u001b[0;34m)\u001b[0m\u001b[0;34m\u001b[0m\u001b[0;34m\u001b[0m\u001b[0m\n\u001b[0m\u001b[1;32m      3\u001b[0m \u001b[0;34m\u001b[0m\u001b[0m\n\u001b[1;32m      4\u001b[0m     \u001b[0mparameters\u001b[0m \u001b[0;34m=\u001b[0m \u001b[0mParameters\u001b[0m\u001b[0;34m(\u001b[0m\u001b[0;34m)\u001b[0m\u001b[0;34m\u001b[0m\u001b[0;34m\u001b[0m\u001b[0m\n\u001b[1;32m      5\u001b[0m     \u001b[0mparameters\u001b[0m\u001b[0;34m.\u001b[0m\u001b[0mn\u001b[0m \u001b[0;34m=\u001b[0m \u001b[0mnext\u001b[0m\u001b[0;34m(\u001b[0m\u001b[0mfileIterator\u001b[0m\u001b[0;34m)\u001b[0m\u001b[0;34m\u001b[0m\u001b[0;34m\u001b[0m\u001b[0m\n",
            "\u001b[0;32m<ipython-input-4-1afb6cb51720>\u001b[0m in \u001b[0;36mgetFileIterator\u001b[0;34m(filename)\u001b[0m\n\u001b[1;32m      1\u001b[0m \u001b[0;32mdef\u001b[0m \u001b[0mgetFileIterator\u001b[0m\u001b[0;34m(\u001b[0m\u001b[0mfilename\u001b[0m\u001b[0;34m)\u001b[0m\u001b[0;34m:\u001b[0m\u001b[0;34m\u001b[0m\u001b[0;34m\u001b[0m\u001b[0m\n\u001b[0;32m----> 2\u001b[0;31m     \u001b[0;32mwith\u001b[0m \u001b[0mopen\u001b[0m\u001b[0;34m(\u001b[0m\u001b[0mfilename\u001b[0m\u001b[0;34m)\u001b[0m \u001b[0;32mas\u001b[0m \u001b[0mf\u001b[0m\u001b[0;34m:\u001b[0m\u001b[0;34m\u001b[0m\u001b[0;34m\u001b[0m\u001b[0m\n\u001b[0m\u001b[1;32m      3\u001b[0m         \u001b[0;32mreturn\u001b[0m \u001b[0miter\u001b[0m\u001b[0;34m(\u001b[0m\u001b[0;34m[\u001b[0m\u001b[0mint\u001b[0m\u001b[0;34m(\u001b[0m\u001b[0melem\u001b[0m\u001b[0;34m)\u001b[0m \u001b[0;32mfor\u001b[0m \u001b[0melem\u001b[0m \u001b[0;32min\u001b[0m \u001b[0mf\u001b[0m\u001b[0;34m.\u001b[0m\u001b[0mread\u001b[0m\u001b[0;34m(\u001b[0m\u001b[0;34m)\u001b[0m\u001b[0;34m.\u001b[0m\u001b[0msplit\u001b[0m\u001b[0;34m(\u001b[0m\u001b[0;34m)\u001b[0m\u001b[0;34m]\u001b[0m\u001b[0;34m)\u001b[0m\u001b[0;34m\u001b[0m\u001b[0;34m\u001b[0m\u001b[0m\n",
            "\u001b[0;31mFileNotFoundError\u001b[0m: [Errno 2] No such file or directory: 'example.txt'"
          ]
        }
      ]
    },
    {
      "cell_type": "code",
      "source": [
        "algorithm(parameters)"
      ],
      "metadata": {
        "id": "LNUbN5m8SPj5"
      },
      "execution_count": null,
      "outputs": []
    }
  ]
}